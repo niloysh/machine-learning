{
 "cells": [
  {
   "cell_type": "code",
   "execution_count": 1,
   "metadata": {},
   "outputs": [],
   "source": [
    "import torch"
   ]
  },
  {
   "cell_type": "code",
   "execution_count": 2,
   "metadata": {},
   "outputs": [
    {
     "name": "stderr",
     "output_type": "stream",
     "text": [
      "/home/niloy/anaconda3/envs/tf/lib/python3.8/site-packages/torch/cuda/__init__.py:52: UserWarning: CUDA initialization: Found no NVIDIA driver on your system. Please check that you have an NVIDIA GPU and installed a driver from http://www.nvidia.com/Download/index.aspx (Triggered internally at  /opt/conda/conda-bld/pytorch_1603729062494/work/c10/cuda/CUDAFunctions.cpp:100.)\n",
      "  return torch._C._cuda_getDeviceCount() > 0\n"
     ]
    },
    {
     "data": {
      "text/plain": [
       "False"
      ]
     },
     "execution_count": 2,
     "metadata": {},
     "output_type": "execute_result"
    }
   ],
   "source": [
    "torch.cuda.is_available()  # check if GPU is available"
   ]
  },
  {
   "cell_type": "markdown",
   "metadata": {},
   "source": [
    "# Automatic differentiation using Autograd"
   ]
  },
  {
   "cell_type": "code",
   "execution_count": 3,
   "metadata": {},
   "outputs": [
    {
     "name": "stdout",
     "output_type": "stream",
     "text": [
      "tensor([[1., 1.],\n",
      "        [1., 1.]], requires_grad=True)\n"
     ]
    }
   ],
   "source": [
    "x = torch.ones(2, 2, requires_grad=True)\n",
    "print(x)"
   ]
  },
  {
   "cell_type": "code",
   "execution_count": 4,
   "metadata": {},
   "outputs": [
    {
     "name": "stdout",
     "output_type": "stream",
     "text": [
      "tensor([[3., 3.],\n",
      "        [3., 3.]], grad_fn=<AddBackward0>)\n"
     ]
    }
   ],
   "source": [
    "y = x + 2\n",
    "print(y)"
   ]
  },
  {
   "cell_type": "code",
   "execution_count": 5,
   "metadata": {},
   "outputs": [
    {
     "name": "stdout",
     "output_type": "stream",
     "text": [
      "tensor([[27., 27.],\n",
      "        [27., 27.]], grad_fn=<MulBackward0>) tensor(27., grad_fn=<MeanBackward0>)\n"
     ]
    }
   ],
   "source": [
    "z = y * y * 3\n",
    "out = z.mean()\n",
    "print(z, out)"
   ]
  },
  {
   "cell_type": "code",
   "execution_count": 6,
   "metadata": {},
   "outputs": [
    {
     "name": "stdout",
     "output_type": "stream",
     "text": [
      "False\n"
     ]
    }
   ],
   "source": [
    "a = torch.randn(2, 2)\n",
    "a = ((a * 3) / (a - 1))\n",
    "print(a.requires_grad)"
   ]
  },
  {
   "cell_type": "code",
   "execution_count": 7,
   "metadata": {},
   "outputs": [
    {
     "name": "stdout",
     "output_type": "stream",
     "text": [
      "True\n",
      "<SumBackward0 object at 0x7f04643d4dc0>\n"
     ]
    }
   ],
   "source": [
    "a.requires_grad_(True)\n",
    "print(a.requires_grad)\n",
    "b = (a * a).sum()\n",
    "print(b.grad_fn)"
   ]
  },
  {
   "cell_type": "code",
   "execution_count": 8,
   "metadata": {},
   "outputs": [
    {
     "name": "stdout",
     "output_type": "stream",
     "text": [
      "tensor([[4.5000, 4.5000],\n",
      "        [4.5000, 4.5000]])\n"
     ]
    }
   ],
   "source": [
    "out.backward()\n",
    "print(x.grad)  # d(out) / dx"
   ]
  },
  {
   "cell_type": "code",
   "execution_count": 9,
   "metadata": {
    "scrolled": true
   },
   "outputs": [
    {
     "name": "stdout",
     "output_type": "stream",
     "text": [
      "tensor([-0.1443, -2.1702,  0.5571], requires_grad=True)\n",
      "tensor([  -73.8692, -1111.1251,   285.2525], grad_fn=<MulBackward0>)\n"
     ]
    }
   ],
   "source": [
    "x = torch.randn(3, requires_grad=True)\n",
    "y = x * 2\n",
    "while y.data.norm() < 1000:\n",
    "    y = y * 2\n",
    "print(x)\n",
    "print(y)"
   ]
  },
  {
   "cell_type": "markdown",
   "metadata": {},
   "source": [
    "# Linear regression manually"
   ]
  },
  {
   "cell_type": "code",
   "execution_count": 10,
   "metadata": {},
   "outputs": [],
   "source": [
    "import numpy as np"
   ]
  },
  {
   "cell_type": "markdown",
   "metadata": {},
   "source": [
    "Try to learn the function $f(x) = 2x$ "
   ]
  },
  {
   "cell_type": "code",
   "execution_count": 11,
   "metadata": {},
   "outputs": [],
   "source": [
    "X = np.array([1, 2, 3, 4], dtype=np.float32)\n",
    "Y = np.array([2, 4, 6, 8], dtype=np.float32)\n",
    "w = 0.0"
   ]
  },
  {
   "cell_type": "code",
   "execution_count": 12,
   "metadata": {},
   "outputs": [],
   "source": [
    "# model prediction\n",
    "def forward(x):\n",
    "    return w * x\n",
    "\n",
    "# MSE loss\n",
    "def loss(y, y_pred):\n",
    "    return ((y - y_pred) ** 2).mean()\n",
    "\n",
    "# gradient\n",
    "def gradient(x, y, y_pred):\n",
    "    return (np.dot(2*x, y_pred - y)).mean()"
   ]
  },
  {
   "cell_type": "code",
   "execution_count": 13,
   "metadata": {},
   "outputs": [
    {
     "name": "stdout",
     "output_type": "stream",
     "text": [
      "Prediction before training: f(5) = 0.000\n"
     ]
    }
   ],
   "source": [
    "print(f'Prediction before training: f(5) = {forward(5):.3f}')"
   ]
  },
  {
   "cell_type": "code",
   "execution_count": 14,
   "metadata": {
    "scrolled": true
   },
   "outputs": [
    {
     "name": "stdout",
     "output_type": "stream",
     "text": [
      "Epoch 1: weights = 1.200, loss = 30.00000000\n",
      "Epoch 3: weights = 1.872, loss = 0.76800019\n",
      "Epoch 5: weights = 1.980, loss = 0.01966083\n",
      "Epoch 7: weights = 1.997, loss = 0.00050332\n",
      "Epoch 9: weights = 1.999, loss = 0.00001288\n",
      "Epoch 11: weights = 2.000, loss = 0.00000033\n",
      "Epoch 13: weights = 2.000, loss = 0.00000001\n",
      "Epoch 15: weights = 2.000, loss = 0.00000000\n",
      "Epoch 17: weights = 2.000, loss = 0.00000000\n",
      "Epoch 19: weights = 2.000, loss = 0.00000000\n",
      "Prediction after training: f(5) = 10.000\n"
     ]
    }
   ],
   "source": [
    "# training\n",
    "learning_rate = 0.01\n",
    "n_iters = 20\n",
    "for epoch in range(n_iters):\n",
    "    y_pred = forward(X)\n",
    "    l = loss(Y, y_pred)\n",
    "    dw = gradient(X, Y, y_pred)\n",
    "    w -= learning_rate * dw\n",
    "    if epoch % 2 == 0:\n",
    "        print(f'Epoch {epoch+1}: weights = {w:.3f}, loss = {l:.8f}')\n",
    "              \n",
    "print(f'Prediction after training: f(5) = {forward(5):.3f}')"
   ]
  },
  {
   "cell_type": "markdown",
   "metadata": {},
   "source": [
    "# Linear regression using pytorch (only gradient computation)"
   ]
  },
  {
   "cell_type": "code",
   "execution_count": 15,
   "metadata": {},
   "outputs": [],
   "source": [
    "import torch"
   ]
  },
  {
   "cell_type": "code",
   "execution_count": 16,
   "metadata": {},
   "outputs": [],
   "source": [
    "X = torch.tensor([1, 2, 3, 4], dtype=torch.float32)\n",
    "Y = torch.tensor([2, 4, 6, 8], dtype=torch.float32)\n",
    "w = torch.tensor(0.0, dtype=torch.float32, requires_grad=True)"
   ]
  },
  {
   "cell_type": "code",
   "execution_count": 17,
   "metadata": {},
   "outputs": [
    {
     "name": "stdout",
     "output_type": "stream",
     "text": [
      "Epoch 1: weights = 0.300, loss = 30.00000000\n",
      "Epoch 6: weights = 1.246, loss = 5.90623236\n",
      "Epoch 11: weights = 1.665, loss = 1.16278565\n",
      "Epoch 16: weights = 1.851, loss = 0.22892261\n",
      "Epoch 21: weights = 1.934, loss = 0.04506890\n",
      "Epoch 26: weights = 1.971, loss = 0.00887291\n",
      "Epoch 31: weights = 1.987, loss = 0.00174685\n",
      "Epoch 36: weights = 1.994, loss = 0.00034392\n",
      "Epoch 41: weights = 1.997, loss = 0.00006770\n",
      "Epoch 46: weights = 1.999, loss = 0.00001333\n",
      "Prediction after training: f(5) = 9.997\n"
     ]
    }
   ],
   "source": [
    "# training\n",
    "learning_rate = 0.01\n",
    "n_iters = 50\n",
    "for epoch in range(n_iters):\n",
    "    y_pred = forward(X)\n",
    "    l = loss(Y, y_pred)\n",
    "    l.backward()  # compute dl/dw\n",
    "    \n",
    "    # update gradients\n",
    "    with torch.no_grad():\n",
    "        w -= learning_rate * w.grad\n",
    "        \n",
    "    # zero gradients in-place (very imp!)\n",
    "    # otherwise gradients will accumulate over iterations\n",
    "    w.grad.zero_()\n",
    "        \n",
    "        \n",
    "    if epoch % 5 == 0:\n",
    "        print(f'Epoch {epoch+1}: weights = {w:.3f}, loss = {l:.8f}')\n",
    "              \n",
    "print(f'Prediction after training: f(5) = {forward(5):.3f}')"
   ]
  },
  {
   "cell_type": "markdown",
   "metadata": {},
   "source": [
    "**Observation**: The autograd function is not as exact as the numerically computed gradient, so it needs more iterations."
   ]
  },
  {
   "cell_type": "markdown",
   "metadata": {},
   "source": [
    "# Linear regression using pytorch"
   ]
  },
  {
   "cell_type": "code",
   "execution_count": 46,
   "metadata": {},
   "outputs": [],
   "source": [
    "import torch\n",
    "import torch.nn as nn"
   ]
  },
  {
   "cell_type": "code",
   "execution_count": 47,
   "metadata": {},
   "outputs": [],
   "source": [
    "X = torch.tensor([1, 2, 3, 4], dtype=torch.float32)\n",
    "Y = torch.tensor([2, 4, 6, 8], dtype=torch.float32)"
   ]
  },
  {
   "cell_type": "code",
   "execution_count": 48,
   "metadata": {},
   "outputs": [
    {
     "name": "stdout",
     "output_type": "stream",
     "text": [
      "tensor([[1.],\n",
      "        [2.],\n",
      "        [3.],\n",
      "        [4.]])\n",
      "tensor([[2.],\n",
      "        [4.],\n",
      "        [6.],\n",
      "        [8.]])\n"
     ]
    }
   ],
   "source": [
    "# pytorch expects data in format n_samples, n_features\n",
    "# therefore we need to reshape the data\n",
    "X = X.view(X.shape[0], 1)\n",
    "Y = Y.view(X.shape[0], 1)\n",
    "print(X)\n",
    "print(Y)"
   ]
  },
  {
   "cell_type": "code",
   "execution_count": 49,
   "metadata": {},
   "outputs": [],
   "source": [
    "# define the model\n",
    "class LinearRegression(nn.Module):\n",
    "    def __init__(self, input_size, output_size):\n",
    "        super(LinearRegression, self).__init__()\n",
    "        self.linear = nn.Linear(input_size, output_size)\n",
    "    \n",
    "    def forward(self, x):\n",
    "        return self.linear(x)"
   ]
  },
  {
   "cell_type": "code",
   "execution_count": 50,
   "metadata": {},
   "outputs": [],
   "source": [
    "n_samples, n_features = X.shape\n",
    "input_size = n_features\n",
    "output_size = 1"
   ]
  },
  {
   "cell_type": "code",
   "execution_count": 51,
   "metadata": {},
   "outputs": [],
   "source": [
    "model = LinearRegression(input_size, output_size)"
   ]
  },
  {
   "cell_type": "code",
   "execution_count": 52,
   "metadata": {},
   "outputs": [],
   "source": [
    "learning_rate = 0.01\n",
    "\n",
    "# define loss\n",
    "criterion = nn.MSELoss()\n",
    "\n",
    "# define optimizer\n",
    "# model.parameters() are the weights\n",
    "optimizer = torch.optim.SGD(model.parameters(), lr=learning_rate) "
   ]
  },
  {
   "cell_type": "code",
   "execution_count": 53,
   "metadata": {},
   "outputs": [
    {
     "name": "stdout",
     "output_type": "stream",
     "text": [
      "Epoch 1: weights = -0.001, loss = 46.26792526\n",
      "Epoch 6: weights = 1.112, loss = 7.46706581\n",
      "Epoch 11: weights = 1.560, loss = 1.22525179\n",
      "Epoch 16: weights = 1.741, loss = 0.22054875\n",
      "Epoch 21: weights = 1.815, loss = 0.05825001\n",
      "Epoch 26: weights = 1.846, loss = 0.03147167\n",
      "Epoch 31: weights = 1.859, loss = 0.02651152\n",
      "Epoch 36: weights = 1.866, loss = 0.02508005\n",
      "Epoch 41: weights = 1.870, loss = 0.02423492\n",
      "Epoch 46: weights = 1.872, loss = 0.02350228\n",
      "Epoch 51: weights = 1.874, loss = 0.02280535\n",
      "Epoch 56: weights = 1.876, loss = 0.02213126\n",
      "Epoch 61: weights = 1.878, loss = 0.02147749\n",
      "Epoch 66: weights = 1.880, loss = 0.02084307\n",
      "Epoch 71: weights = 1.882, loss = 0.02022736\n",
      "Epoch 76: weights = 1.884, loss = 0.01962989\n",
      "Epoch 81: weights = 1.885, loss = 0.01905004\n",
      "Epoch 86: weights = 1.887, loss = 0.01848734\n",
      "Epoch 91: weights = 1.889, loss = 0.01794124\n",
      "Epoch 96: weights = 1.891, loss = 0.01741129\n",
      "Prediction after training: f(5) = 9.777\n"
     ]
    }
   ],
   "source": [
    "# training loop\n",
    "n_iters = 100\n",
    "for epoch in range(n_iters):\n",
    "    y_pred = model(X)  # forward pass\n",
    "    l = criterion(y_pred, Y)  # compute loss\n",
    "    l.backward()  # backcward pass\n",
    "    \n",
    "    optimizer.step() # update weights\n",
    "    optimizer.zero_grad()\n",
    "        \n",
    "    w, b = model.parameters()\n",
    "    if epoch % 5 == 0:\n",
    "        print(f'Epoch {epoch+1}: weights = {w[0][0]:.3f}, loss = {l:.8f}')\n",
    "\n",
    "X_test = torch.tensor([5], dtype=torch.float32)  # test point must also be a tensor\n",
    "print(f'Prediction after training: f(5) = {model(X_test).item():.3f}')"
   ]
  },
  {
   "cell_type": "code",
   "execution_count": 55,
   "metadata": {},
   "outputs": [
    {
     "data": {
      "text/plain": [
       "tensor([9.7772])"
      ]
     },
     "execution_count": 55,
     "metadata": {},
     "output_type": "execute_result"
    }
   ],
   "source": [
    "model(X_test).detach()"
   ]
  },
  {
   "cell_type": "code",
   "execution_count": 60,
   "metadata": {},
   "outputs": [
    {
     "name": "stdout",
     "output_type": "stream",
     "text": [
      "Parameter containing:\n",
      "tensor([[1.8918]], requires_grad=True)\n",
      "Parameter containing:\n",
      "tensor([0.3181], requires_grad=True)\n"
     ]
    }
   ],
   "source": [
    "for parameter in model.parameters():\n",
    "    print(parameter)"
   ]
  },
  {
   "cell_type": "code",
   "execution_count": 61,
   "metadata": {},
   "outputs": [
    {
     "name": "stdout",
     "output_type": "stream",
     "text": [
      "LinearRegression(\n",
      "  (linear): Linear(in_features=1, out_features=1, bias=True)\n",
      ")\n"
     ]
    }
   ],
   "source": [
    "print(model)"
   ]
  },
  {
   "cell_type": "code",
   "execution_count": null,
   "metadata": {},
   "outputs": [],
   "source": []
  }
 ],
 "metadata": {
  "kernelspec": {
   "display_name": "Python 3",
   "language": "python",
   "name": "python3"
  },
  "language_info": {
   "codemirror_mode": {
    "name": "ipython",
    "version": 3
   },
   "file_extension": ".py",
   "mimetype": "text/x-python",
   "name": "python",
   "nbconvert_exporter": "python",
   "pygments_lexer": "ipython3",
   "version": "3.8.5"
  }
 },
 "nbformat": 4,
 "nbformat_minor": 4
}
