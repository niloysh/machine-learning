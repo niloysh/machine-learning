{
 "cells": [
  {
   "source": [
    "# Logistic regession using scikit-learn"
   ],
   "cell_type": "markdown",
   "metadata": {}
  },
  {
   "cell_type": "code",
   "execution_count": 17,
   "metadata": {},
   "outputs": [],
   "source": [
    "import numpy as np\n",
    "import matplotlib.pyplot as plt"
   ]
  },
  {
   "cell_type": "code",
   "execution_count": 18,
   "metadata": {},
   "outputs": [],
   "source": [
    "def sigmoid(x):\n",
    "    return 1 / (1 + np.exp(-x))"
   ]
  },
  {
   "cell_type": "code",
   "execution_count": 19,
   "metadata": {},
   "outputs": [],
   "source": [
    "def load_logistic_regression_data():\n",
    "    test_inputs = np.genfromtxt('knn-dataset/test_inputs.csv', delimiter=',')\n",
    "    test_labels = np.genfromtxt('knn-dataset/test_labels.csv', delimiter=',')\n",
    "    train_inputs = np.genfromtxt('knn-dataset/train_inputs.csv', delimiter=',')\n",
    "    train_labels = np.genfromtxt('knn-dataset/train_labels.csv', delimiter=',')\n",
    "    return train_inputs, train_labels, test_inputs, test_labels"
   ]
  },
  {
   "cell_type": "code",
   "execution_count": 20,
   "metadata": {},
   "outputs": [],
   "source": [
    "X, Y, X_test, Y_test = load_logistic_regression_data()"
   ]
  },
  {
   "cell_type": "code",
   "execution_count": 21,
   "metadata": {},
   "outputs": [
    {
     "output_type": "stream",
     "name": "stdout",
     "text": [
      "(1000, 64)\n(1000,)\n"
     ]
    }
   ],
   "source": [
    "print(X.shape)\n",
    "print(Y.shape)"
   ]
  },
  {
   "cell_type": "code",
   "execution_count": 22,
   "metadata": {},
   "outputs": [
    {
     "output_type": "stream",
     "name": "stdout",
     "text": [
      "(1000, 65)\n(110, 65)\n"
     ]
    }
   ],
   "source": [
    "X_bar = np.column_stack((np.ones(X.shape[0]), X))\n",
    "X_bar_test = np.column_stack((np.ones(X_test.shape[0]), X_test))\n",
    "print(X_bar.shape)\n",
    "print(X_bar_test.shape)"
   ]
  },
  {
   "cell_type": "code",
   "execution_count": 23,
   "metadata": {},
   "outputs": [
    {
     "output_type": "stream",
     "name": "stdout",
     "text": [
      "[1 0 1 0 1]\n[1 1 0 1 1]\n"
     ]
    }
   ],
   "source": [
    "Y = Y.astype(int) - 5\n",
    "Y_test = Y_test.astype(int) - 5\n",
    "print(Y[0:5])\n",
    "print(Y_test[0:5])"
   ]
  },
  {
   "cell_type": "code",
   "execution_count": 24,
   "metadata": {},
   "outputs": [],
   "source": [
    "from sklearn.linear_model import LogisticRegression, SGDClassifier\n",
    "from sklearn.metrics import accuracy_score"
   ]
  },
  {
   "cell_type": "code",
   "execution_count": 25,
   "metadata": {},
   "outputs": [
    {
     "output_type": "execute_result",
     "data": {
      "text/plain": [
       "SGDClassifier(loss='log')"
      ]
     },
     "metadata": {},
     "execution_count": 25
    }
   ],
   "source": [
    "lr = SGDClassifier(loss='log', verbose=0)\n",
    "lr.fit(X_bar, Y)"
   ]
  },
  {
   "cell_type": "code",
   "execution_count": 26,
   "metadata": {},
   "outputs": [
    {
     "output_type": "execute_result",
     "data": {
      "text/plain": [
       "0.8363636363636363"
      ]
     },
     "metadata": {},
     "execution_count": 26
    }
   ],
   "source": [
    "lr.score(X_bar_test, Y_test)"
   ]
  },
  {
   "cell_type": "code",
   "execution_count": 27,
   "metadata": {},
   "outputs": [],
   "source": [
    "from sklearn.metrics import log_loss, accuracy_score"
   ]
  },
  {
   "cell_type": "code",
   "execution_count": 28,
   "metadata": {},
   "outputs": [
    {
     "output_type": "stream",
     "name": "stdout",
     "text": [
      "5.837074799870521\n0.831\n"
     ]
    }
   ],
   "source": [
    "print(log_loss(Y, lr.predict(X_bar)))\n",
    "print(accuracy_score(Y, lr.predict(X_bar)))"
   ]
  },
  {
   "cell_type": "code",
   "execution_count": 29,
   "metadata": {},
   "outputs": [
    {
     "output_type": "stream",
     "name": "stdout",
     "text": [
      "0.8363636363636363\n"
     ]
    }
   ],
   "source": [
    "log_loss(Y_test, lr.predict(X_bar_test))\n",
    "print(accuracy_score(Y_test, lr.predict(X_bar_test)))"
   ]
  }
 ],
 "metadata": {
  "kernelspec": {
   "display_name": "Python 3",
   "language": "python",
   "name": "python3"
  },
  "language_info": {
   "codemirror_mode": {
    "name": "ipython",
    "version": 3
   },
   "file_extension": ".py",
   "mimetype": "text/x-python",
   "name": "python",
   "nbconvert_exporter": "python",
   "pygments_lexer": "ipython3",
   "version": "3.8.5-final"
  }
 },
 "nbformat": 4,
 "nbformat_minor": 4
}